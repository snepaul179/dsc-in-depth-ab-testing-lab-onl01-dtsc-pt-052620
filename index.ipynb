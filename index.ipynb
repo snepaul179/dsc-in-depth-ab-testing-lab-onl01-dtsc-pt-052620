{
 "cells": [
  {
   "cell_type": "markdown",
   "metadata": {},
   "source": [
    "# In Depth A/B Testing - Lab\n",
    "\n",
    "## Introduction\n",
    "\n",
    "In this lab, you'll explore a survey from Kaggle regarding budding data scientists. With this, you'll form some initial hypotheses, and test them using the tools you've acquired to date. \n",
    "\n",
    "## Objectives\n",
    "\n",
    "You will be able to:\n",
    "* Conduct t-tests and an ANOVA on a real-world dataset and interpret the results"
   ]
  },
  {
   "cell_type": "markdown",
   "metadata": {},
   "source": [
    "## Load the Dataset and Perform a Brief Exploration\n",
    "\n",
    "The data is stored in a file called **multipleChoiceResponses_cleaned.csv**. Feel free to check out the original dataset referenced at the bottom of this lab, although this cleaned version will undoubtedly be easier to work with. Additionally, meta-data regarding the questions is stored in a file name **schema.csv**. Load in the data itself as a Pandas DataFrame, and take a moment to briefly get acquainted with it.\n",
    "\n",
    "> Note: If you can't get the file to load properly, try changing the encoding format as in `encoding='latin1'`"
   ]
  },
  {
   "cell_type": "code",
   "execution_count": 1,
   "metadata": {
    "ExecuteTime": {
     "end_time": "2020-08-19T02:59:07.895963Z",
     "start_time": "2020-08-19T02:59:06.183143Z"
    }
   },
   "outputs": [],
   "source": [
    "import pandas as pd\n",
    "import matplotlib.pyplot as plt\n",
    "# import statsmodelings as sm\n",
    "# import seaborn as sns\n",
    "import numpy as np\n",
    "import scipy.stats as stats"
   ]
  },
  {
   "cell_type": "code",
   "execution_count": null,
   "metadata": {
    "ExecuteTime": {
     "end_time": "2020-08-19T03:01:07.228890Z",
     "start_time": "2020-08-19T03:01:06.256049Z"
    }
   },
   "outputs": [],
   "source": [
    "df = pd.read_csv('multipleChoiceResponses_cleaned.csv')\n",
    "schema = pd.read_csv('schema.csv')"
   ]
  },
  {
   "cell_type": "code",
   "execution_count": 23,
   "metadata": {
    "ExecuteTime": {
     "end_time": "2020-08-19T03:17:54.270692Z",
     "start_time": "2020-08-19T03:17:54.261523Z"
    }
   },
   "outputs": [
    {
     "data": {
      "text/plain": [
       "['GenderSelect',\n",
       " 'GenderFreeForm',\n",
       " 'Country',\n",
       " 'Age',\n",
       " 'EmploymentStatus',\n",
       " 'StudentStatus',\n",
       " 'LearningDataScience',\n",
       " 'KaggleMotivationFreeForm',\n",
       " 'CodeWriter',\n",
       " 'CareerSwitcher',\n",
       " 'CurrentJobTitleSelect',\n",
       " 'CurrentJobTitleFreeForm',\n",
       " 'TitleFit',\n",
       " 'CurrentEmployerType',\n",
       " 'MLToolNextYearSelect',\n",
       " 'MLToolNextYearFreeForm',\n",
       " 'MLMethodNextYearSelect',\n",
       " 'MLMethodNextYearFreeForm',\n",
       " 'LanguageRecommendationSelect',\n",
       " 'LanguageRecommendationFreeForm',\n",
       " 'PublicDatasetsSelect',\n",
       " 'PublicDatasetsFreeForm',\n",
       " 'PersonalProjectsChallengeFreeForm',\n",
       " 'LearningPlatformSelect',\n",
       " 'LearningPlatformCommunityFreeForm',\n",
       " 'LearningPlatformFreeForm1',\n",
       " 'LearningPlatformFreeForm2',\n",
       " 'LearningPlatformFreeForm3',\n",
       " 'LearningPlatformUsefulnessArxiv',\n",
       " 'LearningPlatformUsefulnessBlogs',\n",
       " 'LearningPlatformUsefulnessCollege',\n",
       " 'LearningPlatformUsefulnessCompany',\n",
       " 'LearningPlatformUsefulnessConferences',\n",
       " 'LearningPlatformUsefulnessFriends',\n",
       " 'LearningPlatformUsefulnessKaggle',\n",
       " 'LearningPlatformUsefulnessNewsletters',\n",
       " 'LearningPlatformUsefulnessCommunities',\n",
       " 'LearningPlatformUsefulnessCommunitiesFreeForm',\n",
       " 'LearningPlatformUsefulnessDocumentation',\n",
       " 'LearningPlatformUsefulnessCourses',\n",
       " 'LearningPlatformUsefulnessProjects',\n",
       " 'LearningPlatformUsefulnessPodcasts',\n",
       " 'LearningPlatformUsefulnessSO',\n",
       " 'LearningPlatformUsefulnessTextbook',\n",
       " 'LearningPlatformUsefulnessTradeBook',\n",
       " 'LearningPlatformUsefulnessTutoring',\n",
       " 'LearningPlatformUsefulnessYouTube',\n",
       " 'LearningPlatformUsefulnessFreeForm1Select',\n",
       " 'LearningPlatformUsefulnessFreeForm1SelectFreeForm',\n",
       " 'LearningPlatformUsefulnessFreeForm2Select',\n",
       " 'LearningPlatformUsefulnessFreeForm2SelectFreeForm',\n",
       " 'LearningPlatformUsefulnessFreeForm3Select',\n",
       " 'LearningPlatformUsefulnessFreeForm3SelectFreeForm',\n",
       " 'BlogsPodcastsNewslettersSelect',\n",
       " 'BlogsPodcastsNewslettersFreeForm',\n",
       " 'LearningDataScienceTime',\n",
       " 'JobSkillImportanceBigData',\n",
       " 'JobSkillImportanceDegree',\n",
       " 'JobSkillImportanceStats',\n",
       " 'JobSkillImportanceEnterpriseTools',\n",
       " 'JobSkillImportancePython',\n",
       " 'JobSkillImportanceR',\n",
       " 'JobSkillImportanceSQL',\n",
       " 'JobSkillImportanceKaggleRanking',\n",
       " 'JobSkillImportanceMOOC',\n",
       " 'JobSkillImportanceVisualizations',\n",
       " 'JobSkillImportanceOtherSelect1',\n",
       " 'JobSkillImportanceOtherSelect1FreeForm',\n",
       " 'JobSkillImportanceOtherSelect2',\n",
       " 'JobSkillImportanceOtherSelect2FreeForm',\n",
       " 'JobSkillImportanceOtherSelect3',\n",
       " 'JobSkillImportanceOtherSelect3FreeForm',\n",
       " 'CoursePlatformSelect',\n",
       " 'CoursePlatformFreeForm',\n",
       " 'HardwarePersonalProjectsSelect',\n",
       " 'HardwarePersonalProjectsFreeForm',\n",
       " 'TimeSpentStudying',\n",
       " 'ProveKnowledgeSelect',\n",
       " 'ProveKnowledgeFreeForm',\n",
       " 'ImpactfulAlgorithmFreeForm',\n",
       " 'InterestingProblemFreeForm',\n",
       " 'DataScienceIdentitySelect',\n",
       " 'DataScienceIdentityFreeForm',\n",
       " 'FormalEducation',\n",
       " 'MajorSelect',\n",
       " 'MajorFreeForm',\n",
       " 'Tenure',\n",
       " 'PastJobTitlesSelect',\n",
       " 'PastJobTitlesFreeForm',\n",
       " 'FirstTrainingSelect',\n",
       " 'FirstTrainingFreeForm',\n",
       " 'LearningCategorySelftTaught',\n",
       " 'LearningCategoryOnlineCourses',\n",
       " 'LearningCategoryWork',\n",
       " 'LearningCategoryUniversity',\n",
       " 'LearningCategoryKaggle',\n",
       " 'LearningCategoryOther',\n",
       " 'LearningCategoryOtherFreeForm',\n",
       " 'MLSkillsSelect',\n",
       " 'MLSkillsFreeForm',\n",
       " 'MLTechniquesSelect',\n",
       " 'MLTechniquesFreeform',\n",
       " 'ParentsEducation',\n",
       " 'EmployerIndustry',\n",
       " 'EmployerIndustryOtherFreeForm',\n",
       " 'EmployerSize',\n",
       " 'EmployerSizeChange',\n",
       " 'EmployerMLTime',\n",
       " 'EmployerSearchMethod',\n",
       " 'EmployerSearchMethodOtherFreeForm',\n",
       " 'UniversityImportance',\n",
       " 'JobFunctionSelect',\n",
       " 'JobFunctionFreeForm',\n",
       " 'WorkHardwareSelect',\n",
       " 'WorkHardwareFreeForm',\n",
       " 'WorkDataTypeSelect',\n",
       " 'WorkDataTypeFreeForm',\n",
       " 'WorkProductionFrequency',\n",
       " 'WorkLibrariesFreeForm',\n",
       " 'WorkDatasetSize',\n",
       " 'WorkAlgorithmsSelect',\n",
       " 'WorkAlgorithmsFreeForm',\n",
       " 'WorkToolsSelect',\n",
       " 'WorkToolsFreeForm1',\n",
       " 'WorkToolsFreeForm2',\n",
       " 'WorkToolsFreeForm3',\n",
       " 'WorkToolsFrequencyAmazonML',\n",
       " 'WorkToolsFrequencyAWS',\n",
       " 'WorkToolsFrequencyAngoss',\n",
       " 'WorkToolsFrequencyC',\n",
       " 'WorkToolsFrequencyCloudera',\n",
       " 'WorkToolsFrequencyDataRobot',\n",
       " 'WorkToolsFrequencyFlume',\n",
       " 'WorkToolsFrequencyGCP',\n",
       " 'WorkToolsFrequencyHadoop',\n",
       " 'WorkToolsFrequencyIBMCognos',\n",
       " 'WorkToolsFrequencyIBMSPSSModeler',\n",
       " 'WorkToolsFrequencyIBMSPSSStatistics',\n",
       " 'WorkToolsFrequencyIBMWatson',\n",
       " 'WorkToolsFrequencyImpala',\n",
       " 'WorkToolsFrequencyJava',\n",
       " 'WorkToolsFrequencyJulia',\n",
       " 'WorkToolsFrequencyJupyter',\n",
       " 'WorkToolsFrequencyKNIMECommercial',\n",
       " 'WorkToolsFrequencyKNIMEFree',\n",
       " 'WorkToolsFrequencyMathematica',\n",
       " 'WorkToolsFrequencyMATLAB',\n",
       " 'WorkToolsFrequencyAzure',\n",
       " 'WorkToolsFrequencyExcel',\n",
       " 'WorkToolsFrequencyMicrosoftRServer',\n",
       " 'WorkToolsFrequencyMicrosoftSQL',\n",
       " 'WorkToolsFrequencyMinitab',\n",
       " 'WorkToolsFrequencyNoSQL',\n",
       " 'WorkToolsFrequencyOracle',\n",
       " 'WorkToolsFrequencyOrange',\n",
       " 'WorkToolsFrequencyPerl',\n",
       " 'WorkToolsFrequencyPython',\n",
       " 'WorkToolsFrequencyQlik',\n",
       " 'WorkToolsFrequencyR',\n",
       " 'WorkToolsFrequencyRapidMinerCommercial',\n",
       " 'WorkToolsFrequencyRapidMinerFree',\n",
       " 'WorkToolsFrequencySalfrod',\n",
       " 'WorkToolsFrequencySAPBusinessObjects',\n",
       " 'WorkToolsFrequencySASBase',\n",
       " 'WorkToolsFrequencySASEnterprise',\n",
       " 'WorkToolsFrequencySASJMP',\n",
       " 'WorkToolsFrequencySpark',\n",
       " 'WorkToolsFrequencySQL',\n",
       " 'WorkToolsFrequencyStan',\n",
       " 'WorkToolsFrequencyStatistica',\n",
       " 'WorkToolsFrequencyTableau',\n",
       " 'WorkToolsFrequencyTensorFlow',\n",
       " 'WorkToolsFrequencyTIBCO',\n",
       " 'WorkToolsFrequencyUnix',\n",
       " 'WorkToolsFrequencySelect1',\n",
       " 'WorkToolsFrequencySelect1FreeForm',\n",
       " 'WorkToolsFrequencySelect2',\n",
       " 'WorkFrequencySelect2FreeForm',\n",
       " 'WorkFrequencySelect3',\n",
       " 'WorkFrequencySelect3FreeForm',\n",
       " 'WorkMethodsSelect',\n",
       " 'WorkMethodsFreeForm1',\n",
       " 'WorkMethodsFreeForm2',\n",
       " 'WorkMethodsFreeForm3',\n",
       " 'WorkMethodsFrequencyA/B',\n",
       " 'WorkMethodsFrequencyAssociationRules',\n",
       " 'WorkMethodsFrequencyBayesian',\n",
       " 'WorkMethodsFrequencyCNNs',\n",
       " 'WorkMethodsFrequencyCollaborativeFiltering',\n",
       " 'WorkMethodsFrequencyCross-Validation',\n",
       " 'WorkMethodsFrequencyDataVisualization',\n",
       " 'WorkMethodsFrequencyDecisionTrees',\n",
       " 'WorkMethodsFrequencyEnsembleMethods',\n",
       " 'WorkMethodsFrequencyEvolutionaryApproaches',\n",
       " 'WorkMethodsFrequencyGANs',\n",
       " 'WorkMethodsFrequencyGBM',\n",
       " 'WorkMethodsFrequencyHMMs',\n",
       " 'WorkMethodsFrequencyKNN',\n",
       " 'WorkMethodsFrequencyLiftAnalysis',\n",
       " 'WorkMethodsFrequencyLogisticRegression',\n",
       " 'WorkMethodsFrequencyMLN',\n",
       " 'WorkMethodsFrequencyNaiveBayes',\n",
       " 'WorkMethodsFrequencyNLP',\n",
       " 'WorkMethodsFrequencyNeuralNetworks',\n",
       " 'WorkMethodsFrequencyPCA',\n",
       " 'WorkMethodsFrequencyPrescriptiveModeling',\n",
       " 'WorkMethodsFrequencyRandomForests',\n",
       " 'WorkMethodsFrequencyRecommenderSystems',\n",
       " 'WorkMethodsFrequencyRNNs',\n",
       " 'WorkMethodsFrequencySegmentation',\n",
       " 'WorkMethodsFrequencySimulation',\n",
       " 'WorkMethodsFrequencySVMs',\n",
       " 'WorkMethodsFrequencyTextAnalysis',\n",
       " 'WorkMethodsFrequencyTimeSeriesAnalysis',\n",
       " 'WorkMethodsFrequencySelect1',\n",
       " 'WorkMethodsFrequencySelect1FreeForm',\n",
       " 'WorkMethodsFrequencySelect2',\n",
       " 'WorkMethodsFrequencySelect2FreeForm',\n",
       " 'WorkMethodsFrequencySelect3',\n",
       " 'WorkMethodsFrequencySelect3FreeForm',\n",
       " 'TimeGatheringData',\n",
       " 'TimeModelBuilding',\n",
       " 'TimeProduction',\n",
       " 'TimeVisualizing',\n",
       " 'TimeFindingInsights',\n",
       " 'TimeOtherSelect',\n",
       " 'TimeOtherSelectFreeForm',\n",
       " 'AlgorithmUnderstandingLevel',\n",
       " 'WorkChallengesSelect',\n",
       " 'WorkChallengesFreeForm',\n",
       " 'WorkChallengeFrequencyPolitics',\n",
       " 'WorkChallengeFrequencyUnusedResults',\n",
       " 'WorkChallengeFrequencyUnusefulInstrumenting',\n",
       " 'WorkChallengeFrequencyDeployment',\n",
       " 'WorkChallengeFrequencyDirtyData',\n",
       " 'WorkChallengeFrequencyExplaining',\n",
       " 'WorkChallengeFrequencyPass',\n",
       " 'WorkChallengeFrequencyIntegration',\n",
       " 'WorkChallengeFrequencyTalent',\n",
       " 'WorkChallengeFrequencyDataFunds',\n",
       " 'WorkChallengeFrequencyDomainExpertise',\n",
       " 'WorkChallengeFrequencyML',\n",
       " 'WorkChallengeFrequencyTools',\n",
       " 'WorkChallengeFrequencyExpectations',\n",
       " 'WorkChallengeFrequencyITCoordination',\n",
       " 'WorkChallengeFrequencyHiringFunds',\n",
       " 'WorkChallengeFrequencyPrivacy',\n",
       " 'WorkChallengeFrequencyScaling',\n",
       " 'WorkChallengeFrequencyEnvironments',\n",
       " 'WorkChallengeFrequencyClarity',\n",
       " 'WorkChallengeFrequencyDataAccess',\n",
       " 'WorkChallengeFrequencyOtherSelect',\n",
       " 'WorkChallengeFrequencyOtherFreeForm',\n",
       " 'WorkDataVisualizations',\n",
       " 'WorkInternalVsExternalTools',\n",
       " 'WorkMLTeamSeatSelect',\n",
       " 'WorkMLTeamSeatFreeForm',\n",
       " 'WorkDatasets',\n",
       " 'WorkDatasetsChallenge',\n",
       " 'WorkDataStorage',\n",
       " 'WorkDataStorageFreeForm',\n",
       " 'WorkDataSharing',\n",
       " 'WorkDataSourcing',\n",
       " 'WorkCodeSharing',\n",
       " 'WorkCodeSharingFreeForm',\n",
       " 'RemoteWork',\n",
       " 'CompensationAmount',\n",
       " 'CompensationCurrency',\n",
       " 'SalaryChange',\n",
       " 'SalaryChangeFreeForm',\n",
       " 'JobSatisfaction',\n",
       " 'JobSearchResource',\n",
       " 'JobSearchResourceFreeForm',\n",
       " 'JobHuntTime',\n",
       " 'JobFactorLearning',\n",
       " 'JobFactorSalary',\n",
       " 'JobFactorOffice',\n",
       " 'JobFactorLanguages',\n",
       " 'JobFactorCommute',\n",
       " 'JobFactorManagement',\n",
       " 'JobFactorExperienceLevel',\n",
       " 'JobFactorDepartment',\n",
       " 'JobFactorTitle',\n",
       " 'JobFactorCompanyFunding',\n",
       " 'JobFactorImpact',\n",
       " 'JobFactorRemote',\n",
       " 'JobFactorIndustry',\n",
       " 'JobFactorLeaderReputation',\n",
       " 'JobFactorDiversity',\n",
       " 'JobFactorPublishingOpportunity']"
      ]
     },
     "execution_count": 23,
     "metadata": {},
     "output_type": "execute_result"
    }
   ],
   "source": [
    "list(schema['Column'])"
   ]
  },
  {
   "cell_type": "code",
   "execution_count": null,
   "metadata": {},
   "outputs": [],
   "source": [
    "imp_colums = ['GenderSelect','GenderFreeForm',\n",
    " 'Country',\n",
    " 'Age',\n",
    " 'EmploymentStatus',\n",
    " 'StudentStatus','LearningDataScience',\n",
    " 'KaggleMotivationFreeForm',\n",
    " 'CodeWriter',\n",
    " 'CareerSwitcher',\n",
    " 'CurrentJobTitleSelect',\n",
    " 'CurrentJobTitleFreeForm',\n",
    " 'TitleFit',\n",
    " 'CurrentEmployerType', 'PublicDatasetsSelect',\n",
    " 'PublicDatasetsFreeForm','LearningPlatformSelect','BlogsPodcastsNewslettersSelect',\n",
    " 'BlogsPodcastsNewslettersFreeForm','LearningDataScienceTime', 'JobSkillImportanceBigData',\n",
    " 'JobSkillImportanceDegree',\n",
    " 'JobSkillImportanceStats',\n",
    " 'JobSkillImportanceEnterpriseTools',\n",
    " 'JobSkillImportancePython',\n",
    " 'JobSkillImportanceR',\n",
    " 'JobSkillImportanceSQL',\n",
    " 'JobSkillImportanceKaggleRanking',\n",
    " 'JobSkillImportanceMOOC',\n",
    " 'JobSkillImportanceVisualizations',]"
   ]
  },
  {
   "cell_type": "code",
   "execution_count": 33,
   "metadata": {
    "ExecuteTime": {
     "end_time": "2020-08-19T03:36:03.118614Z",
     "start_time": "2020-08-19T03:36:03.106815Z"
    }
   },
   "outputs": [
    {
     "data": {
      "text/plain": [
       "0             NaN\n",
       "1             NaN\n",
       "2             NaN\n",
       "3        250000.0\n",
       "4             NaN\n",
       "           ...   \n",
       "26389         NaN\n",
       "26390         NaN\n",
       "26391         NaN\n",
       "26392         NaN\n",
       "26393         NaN\n",
       "Name: AdjustedCompensation, Length: 26394, dtype: float64"
      ]
     },
     "execution_count": 33,
     "metadata": {},
     "output_type": "execute_result"
    }
   ],
   "source": [
    "df['AdjustedCompensation']"
   ]
  },
  {
   "cell_type": "markdown",
   "metadata": {},
   "source": [
    "## Wages and Education\n",
    "\n",
    "You've been asked to determine whether education is impactful to salary. Develop a hypothesis test to compare the salaries of those with Master's degrees to those with Bachelor's degrees. Are the two statistically different according to your results?\n",
    "\n",
    "> Note: The relevant features are stored in the 'FormalEducation' and 'AdjustedCompensation' features.\n",
    "\n",
    "You may import the functions stored in the `flatiron_stats.py` file to help perform your hypothesis tests. It contains the stats functions that you previously coded: `welch_t(a,b)`, `welch_df(a, b)`, and `p_value(a, b, two_sided=False)`. \n",
    "\n",
    "Note that `scipy.stats.ttest_ind(a, b, equal_var=False)` performs a two-sided Welch's t-test and that p-values derived from two-sided tests are two times the p-values derived from one-sided tests. See the [documentation](https://docs.scipy.org/doc/scipy/reference/generated/scipy.stats.ttest_ind.html) for more information.    "
   ]
  },
  {
   "cell_type": "code",
   "execution_count": 40,
   "metadata": {
    "ExecuteTime": {
     "end_time": "2020-08-19T04:13:58.170082Z",
     "start_time": "2020-08-19T04:13:57.962098Z"
    }
   },
   "outputs": [],
   "source": [
    "import flatiron_stats as fs\n",
    "import seaborn as sns"
   ]
  },
  {
   "cell_type": "code",
   "execution_count": 46,
   "metadata": {
    "ExecuteTime": {
     "end_time": "2020-08-19T04:19:59.140298Z",
     "start_time": "2020-08-19T04:19:58.740758Z"
    },
    "code_folding": [],
    "scrolled": true
   },
   "outputs": [
    {
     "data": {
      "text/plain": [
       "<matplotlib.axes._subplots.AxesSubplot at 0x1a24cca940>"
      ]
     },
     "execution_count": 46,
     "metadata": {},
     "output_type": "execute_result"
    },
    {
     "data": {
      "image/png": "[encoded data removed]",
      "text/plain": [
       "<Figure size 432x288 with 1 Axes>"
      ]
     },
     "metadata": {
      "needs_background": "light"
     },
     "output_type": "display_data"
    }
   ],
   "source": [
    "f= 'FormalEducation'\n",
    "c = 'AdjustedCompensation'\n",
    "subset = df[(~df[f].isnull()) & (~df[c].isnull())]\n",
    "\n",
    "fs1 = subset[subset[f] == \"Bachelor's degree\"][c]\n",
    "cs2 = subset[subset[f] == \"Master's degree\"][c]\n",
    "\n",
    "sns.distplot(fs1)\n",
    "sns.distplot(cs2)"
   ]
  },
  {
   "cell_type": "code",
   "execution_count": 48,
   "metadata": {
    "ExecuteTime": {
     "end_time": "2020-08-19T04:25:17.716323Z",
     "start_time": "2020-08-19T04:25:17.703023Z"
    },
    "scrolled": true
   },
   "outputs": [
    {
     "name": "stdout",
     "output_type": "stream",
     "text": [
      "Comparison of AdjustedCompensation for Bachelor and Master\n",
      "Median Values: \ts1: 38399.4 \ts2: 53812.17\n",
      "Mean Values: \ts1: 64887.1 \ts2: 69139.9\n",
      "Sample sizes: \ts1: 1107 \ts2: 1990\n",
      "Welch's t-test p-value: 0.33077639451272445\n",
      "Welch's t-test p-value: Ttest_indResult(statistic=-0.43786693335411514, pvalue=0.6615527890254489)\n"
     ]
    }
   ],
   "source": [
    "print('Comparison of {} for {} and {}'.format(c, 'Bachelor', 'Master'))\n",
    "print(\"Median Values: \\ts1: {} \\ts2: {}\".format(round(fs1.median(),2), round(cs2.median(),2)))\n",
    "print(\"Mean Values: \\ts1: {} \\ts2: {}\".format(round(fs1.mean(),2), round(cs2.mean(),2)))\n",
    "print('Sample sizes: \\ts1: {} \\ts2: {}'.format(len(fs1), len(cs2)))\n",
    "print(\"Welch's t-test p-value:\", fs.p_value_welch_ttest(fs1, cs2))\n",
    "print(\"Welch's t-test p-value:\", stats.ttest_ind(fs1, cs2, equal_var=False,\n",
    "                                                 nan_policy='omit'))"
   ]
  },
  {
   "cell_type": "code",
   "execution_count": 50,
   "metadata": {
    "ExecuteTime": {
     "end_time": "2020-08-19T04:35:21.178811Z",
     "start_time": "2020-08-19T04:35:21.147198Z"
    }
   },
   "outputs": [
    {
     "name": "stdout",
     "output_type": "stream",
     "text": [
      "Repeated Test with Outliers Removed:\n",
      "S1: Bachelor's degree\tS2: Master's degree\n",
      "Median Values: \ts1: 37488.0 \ts2: 52616.34\n",
      "Mean Values: \ts1: 51742.21 \ts2: 62296.33\n",
      "Sample sizes: \ts1: 1096 \ts2: 1973\n",
      "Welch's t-test p-value with outliers removed: 1.0613307233064972e-08\n"
     ]
    }
   ],
   "source": [
    "print('Repeated Test with Outliers Removed:')\n",
    "print('S1: {}\\tS2: {}'.format(\"Bachelor's degree\", \"Master's degree\"))\n",
    "outlier_threshold = 270000\n",
    "s1 = subset[(subset[f]==\"Bachelor's degree\") & (subset[c]<=outlier_threshold)][c]\n",
    "s2 = subset[(subset[f]==\"Master's degree\") & (subset[c]<=outlier_threshold)][c]\n",
    "print(\"Median Values: \\ts1: {} \\ts2: {}\".format(round(s1.median(),2), round(s2.median(),2)))\n",
    "print(\"Mean Values: \\ts1: {} \\ts2: {}\".format(round(s1.mean(),2), round(s2.mean(),2)))\n",
    "print('Sample sizes: \\ts1: {} \\ts2: {}'.format(len(s1), len(s2)))\n",
    "print(\"Welch's t-test p-value with outliers removed:\", fs.p_value_welch_ttest(s1, s2))"
   ]
  },
  {
   "cell_type": "code",
   "execution_count": 51,
   "metadata": {
    "ExecuteTime": {
     "end_time": "2020-08-19T04:35:25.904732Z",
     "start_time": "2020-08-19T04:35:25.599388Z"
    }
   },
   "outputs": [
    {
     "data": {
      "text/plain": [
       "<matplotlib.axes._subplots.AxesSubplot at 0x1a2561c8d0>"
      ]
     },
     "execution_count": 51,
     "metadata": {},
     "output_type": "execute_result"
    },
    {
     "data": {
      "image/png": "[encoded data removed]",
      "text/plain": [
       "<Figure size 432x288 with 1 Axes>"
      ]
     },
     "metadata": {
      "needs_background": "light"
     },
     "output_type": "display_data"
    }
   ],
   "source": [
    "sns.distplot(s1)\n",
    "sns.distplot(s2)"
   ]
  },
  {
   "cell_type": "markdown",
   "metadata": {},
   "source": [
    "## Wages and Education II\n",
    "\n",
    "Now perform a similar statistical test comparing the AdjustedCompensation of those with Bachelor's degrees and those with Doctorates. If you haven't already, be sure to explore the distribution of the AdjustedCompensation feature for any anomalies. "
   ]
  },
  {
   "cell_type": "code",
   "execution_count": 52,
   "metadata": {
    "ExecuteTime": {
     "end_time": "2020-08-19T04:39:33.951926Z",
     "start_time": "2020-08-19T04:39:33.895078Z"
    }
   },
   "outputs": [
    {
     "name": "stdout",
     "output_type": "stream",
     "text": [
      "Analyses of AdjustedCompensation comparing Doctoral degree and Bachelor's degree\n",
      "Median Values: \n",
      "s1:74131.92 s2:38399.4\n",
      "Sample sizes: \n",
      "s1: 967 s2: 1107\n",
      "Welch's t-test p-value: 0.15682381994720251\n",
      "\n",
      "\n",
      "Repeated Test with Ouliers Removed:\n",
      "Sample sizes: \n",
      "s1: 954 \n",
      "s2: 1097\n",
      "Welch's t-test p-value with outliers removed: 0.0\n"
     ]
    }
   ],
   "source": [
    "f1 = 'FormalEducation'\n",
    "f2 = 'AdjustedCompensation'\n",
    "subset = df[(~df[f1].isnull()) & (~df[f2].isnull())]\n",
    "s1 = subset[subset[f1]==\"Doctoral degree\"][f2]\n",
    "s2 = subset[subset[f1]==\"Bachelor's degree\"][f2]\n",
    "print('Analyses of {} comparing {} and {}'.format(f2, \"Doctoral degree\", \"Bachelor's degree\"))\n",
    "print(\"Median Values: \\ns1:{} s2:{}\".format(round(s1.median(),2), round(s2.median(),2)))\n",
    "print('Sample sizes: \\ns1: {} s2: {}'.format(len(s1), len(s2)))\n",
    "print(\"Welch's t-test p-value:\", fs.p_value_welch_ttest(s1, s2))\n",
    "\n",
    "print('\\n\\nRepeated Test with Ouliers Removed:')\n",
    "outlier_threshold = 300000\n",
    "s1 = subset[(subset[f1]==\"Doctoral degree\") & (subset[f2]<=outlier_threshold)][f2]\n",
    "s2 = subset[(subset[f1]==\"Bachelor's degree\") & (subset[f2]<=outlier_threshold)][f2]\n",
    "print('Sample sizes: \\ns1: {} \\ns2: {}'.format(len(s1), len(s2)))\n",
    "print(\"Welch's t-test p-value with outliers removed:\", fs.p_value_welch_ttest(s1, s2))"
   ]
  },
  {
   "cell_type": "code",
   "execution_count": 53,
   "metadata": {
    "ExecuteTime": {
     "end_time": "2020-08-19T04:41:25.321721Z",
     "start_time": "2020-08-19T04:41:24.990103Z"
    }
   },
   "outputs": [
    {
     "data": {
      "text/plain": [
       "<matplotlib.axes._subplots.AxesSubplot at 0x1a256a2ba8>"
      ]
     },
     "execution_count": 53,
     "metadata": {},
     "output_type": "execute_result"
    },
    {
     "data": {
      "image/png": "[encoded data removed]",
      "text/plain": [
       "<Figure size 432x288 with 1 Axes>"
      ]
     },
     "metadata": {
      "needs_background": "light"
     },
     "output_type": "display_data"
    }
   ],
   "source": [
    "sns.distplot(s1)\n",
    "sns.distplot(s2)"
   ]
  },
  {
   "cell_type": "markdown",
   "metadata": {},
   "source": [
    "## Wages and Education III\n",
    "\n",
    "Remember the multiple comparisons problem; rather than continuing on like this, perform an ANOVA test between the various 'FormalEducation' categories and their relation to 'AdjustedCompensation'."
   ]
  },
  {
   "cell_type": "code",
   "execution_count": 54,
   "metadata": {
    "ExecuteTime": {
     "end_time": "2020-08-19T04:44:29.600186Z",
     "start_time": "2020-08-19T04:44:28.699976Z"
    }
   },
   "outputs": [
    {
     "name": "stdout",
     "output_type": "stream",
     "text": [
      "                          sum_sq      df         F    PR(>F)\n",
      "C(FormalEducation)  6.540294e+17     6.0  0.590714  0.738044\n",
      "Residual            7.999414e+20  4335.0       NaN       NaN\n"
     ]
    }
   ],
   "source": [
    "import statsmodels.api as sm\n",
    "from statsmodels.formula.api import ols\n",
    "\n",
    "formula = '{} ~ C({})'.format(f2, f1)\n",
    "lm = ols(formula, df).fit()\n",
    "table = sm.stats.anova_lm(lm, typ=2)\n",
    "print(table)"
   ]
  },
  {
   "cell_type": "markdown",
   "metadata": {},
   "source": [
    "## Additional Resources\n",
    "\n",
    "Here's the original source where the data was taken from:  \n",
    "    [Kaggle Machine Learning & Data Science Survey 2017](https://www.kaggle.com/kaggle/kaggle-survey-2017)"
   ]
  },
  {
   "cell_type": "markdown",
   "metadata": {},
   "source": [
    "## Summary\n",
    "\n",
    "In this lab, you practiced conducting actual hypothesis tests on actual data. From this, you saw how dependent results can be on the initial problem formulation, including preprocessing!"
   ]
  }
 ],
 "metadata": {
  "kernelspec": {
   "display_name": "Python 3",
   "language": "python",
   "name": "python3"
  },
  "language_info": {
   "codemirror_mode": {
    "name": "ipython",
    "version": 3
   },
   "file_extension": ".py",
   "mimetype": "text/x-python",
   "name": "python",
   "nbconvert_exporter": "python",
   "pygments_lexer": "ipython3",
   "version": "3.6.9"
  },
  "toc": {
   "base_numbering": 1,
   "nav_menu": {},
   "number_sections": true,
   "sideBar": true,
   "skip_h1_title": false,
   "title_cell": "Table of Contents",
   "title_sidebar": "Contents",
   "toc_cell": false,
   "toc_position": {},
   "toc_section_display": true,
   "toc_window_display": false
  },
  "varInspector": {
   "cols": {
    "lenName": 16,
    "lenType": 16,
    "lenVar": 40
   },
   "kernels_config": {
    "python": {
     "delete_cmd_postfix": "",
     "delete_cmd_prefix": "del ",
     "library": "var_list.py",
     "varRefreshCmd": "print(var_dic_list())"
    },
    "r": {
     "delete_cmd_postfix": ") ",
     "delete_cmd_prefix": "rm(",
     "library": "var_list.r",
     "varRefreshCmd": "cat(var_dic_list()) "
    }
   },
   "types_to_exclude": [
    "module",
    "function",
    "builtin_function_or_method",
    "instance",
    "_Feature"
   ],
   "window_display": false
  }
 },
 "nbformat": 4,
 "nbformat_minor": 2
}
